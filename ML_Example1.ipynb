{
  "cells": [
    {
      "cell_type": "markdown",
      "metadata": {
        "colab_type": "text",
        "id": "view-in-github"
      },
      "source": [
        "<a href=\"https://colab.research.google.com/github/ethicalPap/GW_ML_Code/blob/main/ML_Example1.ipynb\" target=\"_parent\"><img src=\"https://colab.research.google.com/assets/colab-badge.svg\" alt=\"Open In Colab\"/></a>"
      ]
    },
    {
      "cell_type": "code",
      "execution_count": 1,
      "metadata": {
        "id": "mt5MZ_B0Er31"
      },
      "outputs": [],
      "source": [
        "\"\"\" pip commands For Google Collab Only\"\"\"\n",
        "\n",
        "# # upgrade pip and imports\n",
        "# !pip install --upgrade pip\n",
        "# !pip install pandas\n",
        "# !pip install numpy\n",
        "\n",
        "import pandas as pd\n",
        "import numpy as np\n",
        "import os"
      ]
    },
    {
      "cell_type": "code",
      "execution_count": 2,
      "metadata": {},
      "outputs": [
        {
          "data": {
            "text/plain": [
              "'for collab dev purposes only'"
            ]
          },
          "execution_count": 2,
          "metadata": {},
          "output_type": "execute_result"
        }
      ],
      "source": [
        "\"\"\"for collab dev purposes only\"\"\"\n",
        "\n",
        "# pwd = os.chdir('/content/drive/MyDrive/GW_ML_Examples/Binary Classification Basic/')"
      ]
    },
    {
      "cell_type": "code",
      "execution_count": null,
      "metadata": {
        "id": "T124NCiIE2oj"
      },
      "outputs": [],
      "source": [
        "# Read Dataset and view first few rows\n",
        "\n",
        "df = pd.read_csv(\"C:/Users/papv2/source/GW_ML_EXAMPLES_WORK/GW_ML_CODE/loan_data.csv\", delimiter=\",\")\n",
        "df.head()"
      ]
    },
    {
      "cell_type": "code",
      "execution_count": null,
      "metadata": {
        "id": "YSiIStViFakD"
      },
      "outputs": [],
      "source": [
        "# print column names, dtype, and non-null count\n",
        "df.info()"
      ]
    },
    {
      "cell_type": "code",
      "execution_count": null,
      "metadata": {
        "id": "UUq9YlyQFeWs"
      },
      "outputs": [],
      "source": [
        "# print column names, dtype, and non-null count\n",
        "df.info()"
      ]
    }
  ],
  "metadata": {
    "colab": {
      "authorship_tag": "ABX9TyPjhXSS4X3vTz1GDFu/BLgj",
      "include_colab_link": true,
      "mount_file_id": "1r_om5-lHVMKYbifmlt6TH78p1nABNcKX",
      "provenance": []
    },
    "kernelspec": {
      "display_name": "Python 3",
      "name": "python3"
    },
    "language_info": {
      "codemirror_mode": {
        "name": "ipython",
        "version": 3
      },
      "file_extension": ".py",
      "mimetype": "text/x-python",
      "name": "python",
      "nbconvert_exporter": "python",
      "pygments_lexer": "ipython3",
      "version": "3.11.9"
    }
  },
  "nbformat": 4,
  "nbformat_minor": 0
}
